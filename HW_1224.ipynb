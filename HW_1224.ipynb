{
  "nbformat": 4,
  "nbformat_minor": 0,
  "metadata": {
    "colab": {
      "provenance": [],
      "authorship_tag": "ABX9TyPv4iUkTvoy0b/EjNsjdgn/",
      "include_colab_link": true
    },
    "kernelspec": {
      "name": "python3",
      "display_name": "Python 3"
    },
    "language_info": {
      "name": "python"
    }
  },
  "cells": [
    {
      "cell_type": "markdown",
      "metadata": {
        "id": "view-in-github",
        "colab_type": "text"
      },
      "source": [
        "<a href=\"https://colab.research.google.com/github/shannonshih/Tibame_GAD245-practice_1224/blob/main/HW_1224.ipynb\" target=\"_parent\"><img src=\"https://colab.research.google.com/assets/colab-badge.svg\" alt=\"Open In Colab\"/></a>"
      ]
    },
    {
      "cell_type": "code",
      "execution_count": 35,
      "metadata": {
        "colab": {
          "base_uri": "https://localhost:8080/"
        },
        "id": "k5FjHiCCtOkB",
        "outputId": "4def6991-e43a-465e-ca81-500b0e28b885"
      },
      "outputs": [
        {
          "output_type": "stream",
          "name": "stdout",
          "text": [
            "0-5: 2\n",
            "我出的: 布(0)\n",
            "電腦出的: 石頭(0)\n",
            "I WIN\n"
          ]
        }
      ],
      "source": [
        "import random\n",
        "\n",
        "my = int(input(\"0-5: \"))\n",
        "com = random.randint(0, 5)\n",
        "trans = [\"剪刀(0)\",\"石頭(0)\",\"布(0)\",\n",
        "      \"剪刀(1)\",\"石頭(1)\",\"布(1)\"]\n",
        "print(\"我出的:\", trans[my])\n",
        "print(\"電腦出的:\", trans[com])\n",
        "\n",
        "# 第一步:先確定他們是否同組\n",
        "# 0 // 3: 0\n",
        "# 1 // 3: 0\n",
        "# 2 // 3: 0\n",
        "# 3 // 3: 1\n",
        "# 4 // 3: 1\n",
        "# 5 // 3: 1\n",
        "# 6 // 3: 2\n",
        "# 取商: 分組 取餘: 循環\n",
        "mygroup = my // 3\n",
        "comgroup = com // 3\n",
        "\n",
        "# 同組->判斷勝負\n",
        "if mygroup == comgroup:\n",
        "    if my == (com +1) % 3:\n",
        "        print(\"I WIN\")\n",
        "    elif com == (my + 1) % 3:\n",
        "        print(\"I　LOSE\")\n",
        "    else:\n",
        "        print(\"We're EVEN\")\n",
        "\n",
        "# 不同組->平手，因為兩組互不干涉\n",
        "else:\n",
        "    print(\"We're EVEN\")"
      ]
    }
  ]
}