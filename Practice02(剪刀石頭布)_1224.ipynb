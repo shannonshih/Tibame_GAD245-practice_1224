{
  "nbformat": 4,
  "nbformat_minor": 0,
  "metadata": {
    "colab": {
      "provenance": [],
      "authorship_tag": "ABX9TyNTP95+aXHLPYQ0cdIfetH3",
      "include_colab_link": true
    },
    "kernelspec": {
      "name": "python3",
      "display_name": "Python 3"
    },
    "language_info": {
      "name": "python"
    }
  },
  "cells": [
    {
      "cell_type": "markdown",
      "metadata": {
        "id": "view-in-github",
        "colab_type": "text"
      },
      "source": [
        "<a href=\"https://colab.research.google.com/github/shannonshih/Tibame_GAD245-practice_1224/blob/main/Practice02(%E5%89%AA%E5%88%80%E7%9F%B3%E9%A0%AD%E5%B8%83)_1224.ipynb\" target=\"_parent\"><img src=\"https://colab.research.google.com/assets/colab-badge.svg\" alt=\"Open In Colab\"/></a>"
      ]
    },
    {
      "cell_type": "code",
      "execution_count": 3,
      "metadata": {
        "colab": {
          "base_uri": "https://localhost:8080/"
        },
        "id": "YKc3CFOhc2gE",
        "outputId": "9586d969-97e6-43d8-9ccd-5b23db20937d"
      },
      "outputs": [
        {
          "output_type": "stream",
          "name": "stdout",
          "text": [
            "請輸入 0.剪刀，1.石頭，2.布: 0\n",
            "我出的: 0\n",
            "電腦出的: 2\n"
          ]
        }
      ],
      "source": [
        "# 引用生成偽隨機數random\n",
        "import random\n",
        "\n",
        "my = int(input(\"請輸入 0.剪刀，1.石頭，2.布: \"))\n",
        "com = random.randint(0, 2)\n",
        "print(\"我出的:\", my)\n",
        "print(\"電腦出的:\", com)"
      ]
    },
    {
      "cell_type": "code",
      "source": [
        "# key-value查詢\n",
        "\n",
        "s = \"abcdf\"\n",
        "s[3]"
      ],
      "metadata": {
        "colab": {
          "base_uri": "https://localhost:8080/",
          "height": 35
        },
        "id": "8tbj-Xgli-6R",
        "outputId": "5f99c6e6-4a00-42d7-9ca3-97de61e7f0d7"
      },
      "execution_count": 5,
      "outputs": [
        {
          "output_type": "execute_result",
          "data": {
            "text/plain": [
              "'d'"
            ],
            "application/vnd.google.colaboratory.intrinsic+json": {
              "type": "string"
            }
          },
          "metadata": {},
          "execution_count": 5
        }
      ]
    },
    {
      "cell_type": "code",
      "source": [
        "import random\n",
        "\n",
        "my = int(input(\"請輸入 0.剪刀，1.石頭，2.布: \"))\n",
        "com = random.randint(0, 2)\n",
        "trans = [\"剪刀\",\"石頭\",\"布\"]\n",
        "print(\"我出的:\", trans[my])\n",
        "print(\"電腦出的:\", trans[com])\n",
        "\n",
        "if my == (com +1) % 3:\n",
        "    print(\"I WIN\")\n",
        "elif com == (my + 1) % 3:\n",
        "    print(\"I　LOSE\")\n",
        "else:\n",
        "    print(\"We're EVEN\")\n",
        "\n",
        "# 如果你的縮排在這裡 什麼時候都會印\n",
        "print(\"!!!!!\")"
      ],
      "metadata": {
        "colab": {
          "base_uri": "https://localhost:8080/"
        },
        "id": "2VGkGjolh-CR",
        "outputId": "2fb7a2ff-3f92-4759-9fd0-0ae50474906e"
      },
      "execution_count": 17,
      "outputs": [
        {
          "output_type": "stream",
          "name": "stdout",
          "text": [
            "請輸入 0.剪刀，1.石頭，2.布: 2\n",
            "我出的: 布\n",
            "電腦出的: 石頭\n",
            "WIN\n"
          ]
        }
      ]
    }
  ]
}