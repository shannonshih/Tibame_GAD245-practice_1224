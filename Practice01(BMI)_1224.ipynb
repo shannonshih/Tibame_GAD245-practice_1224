{
  "nbformat": 4,
  "nbformat_minor": 0,
  "metadata": {
    "colab": {
      "provenance": [],
      "authorship_tag": "ABX9TyMga6/7x+bvpbhFsQCjLtTb",
      "include_colab_link": true
    },
    "kernelspec": {
      "name": "python3",
      "display_name": "Python 3"
    },
    "language_info": {
      "name": "python"
    }
  },
  "cells": [
    {
      "cell_type": "markdown",
      "metadata": {
        "id": "view-in-github",
        "colab_type": "text"
      },
      "source": [
        "<a href=\"https://colab.research.google.com/github/shannonshih/Tibame_GAD245-practice_1224/blob/main/Practice01(BMI)_1224.ipynb\" target=\"_parent\"><img src=\"https://colab.research.google.com/assets/colab-badge.svg\" alt=\"Open In Colab\"/></a>"
      ]
    },
    {
      "cell_type": "code",
      "execution_count": 5,
      "metadata": {
        "colab": {
          "base_uri": "https://localhost:8080/"
        },
        "id": "_he_2ZZJbKJ_",
        "outputId": "06ecff00-e50c-44cd-b5a5-f0cdb36aaac2"
      },
      "outputs": [
        {
          "output_type": "stream",
          "name": "stdout",
          "text": [
            "76\n",
            "164\n",
            "28.256989886972047\n"
          ]
        }
      ],
      "source": [
        "# bmi = weight(kg) / height(m) ^ 2\n",
        "weight = 76\n",
        "height = 164\n",
        "print(weight)\n",
        "print(height)\n",
        "print(weight/(height/100)**2)"
      ]
    },
    {
      "cell_type": "code",
      "source": [
        "# bmi = weight(kg) / height(m) ^ 2\n",
        "weight = 76\n",
        "height = 164\n",
        "print(\"你的體重是: \" + str(weight))\n",
        "print(\"你的身高是: \" + str(height))\n",
        "print(\"你的bmi是: \" + str(weight/(height/100)**2))"
      ],
      "metadata": {
        "colab": {
          "base_uri": "https://localhost:8080/"
        },
        "id": "gPzw8qxswz4v",
        "outputId": "4ead915e-77be-4e2d-e411-86618ff4b8dd"
      },
      "execution_count": 16,
      "outputs": [
        {
          "output_type": "stream",
          "name": "stdout",
          "text": [
            "你的體重是: 76\n",
            "你的身高是: 164\n",
            "你的bmi是: 28.256989886972047\n"
          ]
        }
      ]
    },
    {
      "cell_type": "code",
      "source": [
        "# bmi = weight(kg) / height(m) ^ 2\n",
        "weight = 76\n",
        "height = 164\n",
        "bmi = int(weight/(height/100)**2)\n",
        "print(\"你的體重是: \" + str(weight))\n",
        "print(\"你的身高是: \" + str(height))\n",
        "print(\"你的bmi是: \" + str(bmi))"
      ],
      "metadata": {
        "colab": {
          "base_uri": "https://localhost:8080/"
        },
        "id": "dMqK_KgfzCl6",
        "outputId": "822f65ae-5f52-47ac-996f-e90dd530523f"
      },
      "execution_count": 19,
      "outputs": [
        {
          "output_type": "stream",
          "name": "stdout",
          "text": [
            "你的體重是: 76\n",
            "你的身高是: 164\n",
            "你的bmi是: 28\n"
          ]
        }
      ]
    },
    {
      "cell_type": "code",
      "source": [
        "# bmi = weight(kg) / height(m) ^ 2\n",
        "weight = float(input(\"你的體重是: \"))\n",
        "height = float(input(\"你的身高是: \"))\n",
        "bmi = weight/(height/100)**2\n",
        "print(\"你的bmi是: \" + str(bmi))"
      ],
      "metadata": {
        "colab": {
          "base_uri": "https://localhost:8080/"
        },
        "id": "Du_7ONu3z0Sj",
        "outputId": "77df51bf-b5be-426d-baea-16daea85750c"
      },
      "execution_count": 26,
      "outputs": [
        {
          "output_type": "stream",
          "name": "stdout",
          "text": [
            "你的體重是: 76\n",
            "你的身高是: 164\n",
            "你的bmi是: 28.256989886972047\n"
          ]
        }
      ]
    },
    {
      "cell_type": "code",
      "source": [
        "# bmi = weight(kg) / height(m) ^ 2\n",
        "weight = float(input(\"請輸入體重: \"))\n",
        "height = float(input(\"請輸入身高: \"))\n",
        "bmi = weight/(height/100)**2\n",
        "print(\"你的體重是: \" + str(weight))\n",
        "print(\"你的身高是: \" + str(height))\n",
        "print(\"你的bmi是: \" + str(bmi))\n",
        "\n",
        "# >, >=, <, <=, ==\n",
        "if bmi > 25:\n",
        "    print(\"過重\")\n",
        "    print(\"少吃多動\")\n",
        "elif bmi > 18:\n",
        "    print(\"正常\")\n",
        "    print(\"很棒\")\n",
        "else:\n",
        "    print(\"過輕\")\n",
        "    print(\"多吃\")"
      ],
      "metadata": {
        "colab": {
          "base_uri": "https://localhost:8080/"
        },
        "id": "NyQOdh6f5oH6",
        "outputId": "31ba6f34-d78c-4c76-b0c2-88f0d2cbfee1"
      },
      "execution_count": 34,
      "outputs": [
        {
          "output_type": "stream",
          "name": "stdout",
          "text": [
            "請輸入體重: 76\n",
            "請輸入身高: 164\n",
            "你的體重是: 76.0\n",
            "你的身高是: 164.0\n",
            "你的bmi是: 28.256989886972047\n",
            "過重\n",
            "少吃多動\n"
          ]
        }
      ]
    }
  ]
}